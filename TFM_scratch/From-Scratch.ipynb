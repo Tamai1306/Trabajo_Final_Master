{
  "cells": [
    {
      "cell_type": "markdown",
      "metadata": {
        "id": "PRzsTEfXWcx3"
      },
      "source": [
        "### Importar librerias"
      ]
    },
    {
      "cell_type": "code",
      "execution_count": 1,
      "metadata": {
        "id": "l5O8XkRDWcx4"
      },
      "outputs": [
        {
          "name": "stderr",
          "output_type": "stream",
          "text": [
            "2023-07-12 17:05:04.069676: I tensorflow/core/platform/cpu_feature_guard.cc:193] This TensorFlow binary is optimized with oneAPI Deep Neural Network Library (oneDNN) to use the following CPU instructions in performance-critical operations:  AVX2 AVX_VNNI FMA\n",
            "To enable them in other operations, rebuild TensorFlow with the appropriate compiler flags.\n",
            "2023-07-12 17:05:04.126912: I tensorflow/core/util/port.cc:104] oneDNN custom operations are on. You may see slightly different numerical results due to floating-point round-off errors from different computation orders. To turn them off, set the environment variable `TF_ENABLE_ONEDNN_OPTS=0`.\n",
            "2023-07-12 17:05:04.468918: W tensorflow/compiler/xla/stream_executor/platform/default/dso_loader.cc:64] Could not load dynamic library 'libnvinfer.so.7'; dlerror: libnvinfer.so.7: cannot open shared object file: No such file or directory; LD_LIBRARY_PATH: /usr/local/nvidia/lib:/usr/local/nvidia/lib64\n",
            "2023-07-12 17:05:04.468947: W tensorflow/compiler/xla/stream_executor/platform/default/dso_loader.cc:64] Could not load dynamic library 'libnvinfer_plugin.so.7'; dlerror: libnvinfer_plugin.so.7: cannot open shared object file: No such file or directory; LD_LIBRARY_PATH: /usr/local/nvidia/lib:/usr/local/nvidia/lib64\n",
            "2023-07-12 17:05:04.468950: W tensorflow/compiler/tf2tensorrt/utils/py_utils.cc:38] TF-TRT Warning: Cannot dlopen some TensorRT libraries. If you would like to use Nvidia GPU with TensorRT, please make sure the missing libraries mentioned above are installed properly.\n"
          ]
        }
      ],
      "source": [
        "# keras module for building LSTM\n",
        "import tensorflow as tf\n",
        "from keras.utils import pad_sequences\n",
        "from keras.layers import Embedding, LSTM, Dense, Dropout, BatchNormalization\n",
        "from keras.preprocessing.text import Tokenizer\n",
        "from keras.callbacks import EarlyStopping\n",
        "from keras.models import Sequential\n",
        "import keras.utils as ku\n",
        "from sklearn.model_selection import train_test_split \n",
        "from tensorflow.keras.optimizers.schedules import ExponentialDecay\n",
        "# set seeds for reproducability\n",
        "from numpy.random import seed\n",
        "tf.random.set_seed(42)\n",
        "seed(42)\n",
        "\n",
        "import pandas as pd\n",
        "import numpy as np\n",
        "import string, os\n",
        "import matplotlib.pyplot as plt\n",
        "import pickle\n",
        "import warnings\n",
        "warnings.filterwarnings(\"ignore\")\n",
        "warnings.simplefilter(action='ignore', category=FutureWarning)"
      ]
    },
    {
      "cell_type": "markdown",
      "metadata": {
        "id": "4qm3I72tWcx5"
      },
      "source": [
        "### Importar el dataset"
      ]
    },
    {
      "cell_type": "code",
      "execution_count": 3,
      "metadata": {
        "colab": {
          "base_uri": "https://localhost:8080/",
          "height": 206
        },
        "id": "1gKTm7kMXTjZ",
        "outputId": "be571783-ba93-4dbd-8427-4ef5436194ce"
      },
      "outputs": [
        {
          "data": {
            "text/html": [
              "<div>\n",
              "<style scoped>\n",
              "    .dataframe tbody tr th:only-of-type {\n",
              "        vertical-align: middle;\n",
              "    }\n",
              "\n",
              "    .dataframe tbody tr th {\n",
              "        vertical-align: top;\n",
              "    }\n",
              "\n",
              "    .dataframe thead th {\n",
              "        text-align: right;\n",
              "    }\n",
              "</style>\n",
              "<table border=\"1\" class=\"dataframe\">\n",
              "  <thead>\n",
              "    <tr style=\"text-align: right;\">\n",
              "      <th></th>\n",
              "      <th>Unnamed: 0</th>\n",
              "      <th>Full Recipe</th>\n",
              "    </tr>\n",
              "  </thead>\n",
              "  <tbody>\n",
              "    <tr>\n",
              "      <th>0</th>\n",
              "      <td>0</td>\n",
              "      <td>ingredients: brown sugar milk vanilla nuts but...</td>\n",
              "    </tr>\n",
              "    <tr>\n",
              "      <th>1</th>\n",
              "      <td>1</td>\n",
              "      <td>ingredients: beef chicken breasts cream of mus...</td>\n",
              "    </tr>\n",
              "    <tr>\n",
              "      <th>2</th>\n",
              "      <td>2</td>\n",
              "      <td>ingredients: frozen corn cream cheese butter g...</td>\n",
              "    </tr>\n",
              "    <tr>\n",
              "      <th>3</th>\n",
              "      <td>3</td>\n",
              "      <td>ingredients: chicken chicken gravy cream of mu...</td>\n",
              "    </tr>\n",
              "    <tr>\n",
              "      <th>4</th>\n",
              "      <td>4</td>\n",
              "      <td>ingredients: peanut butter graham cracker crum...</td>\n",
              "    </tr>\n",
              "  </tbody>\n",
              "</table>\n",
              "</div>"
            ],
            "text/plain": [
              "   Unnamed: 0                                        Full Recipe\n",
              "0           0  ingredients: brown sugar milk vanilla nuts but...\n",
              "1           1  ingredients: beef chicken breasts cream of mus...\n",
              "2           2  ingredients: frozen corn cream cheese butter g...\n",
              "3           3  ingredients: chicken chicken gravy cream of mu...\n",
              "4           4  ingredients: peanut butter graham cracker crum..."
            ]
          },
          "metadata": {},
          "output_type": "display_data"
        }
      ],
      "source": [
        "df_recipe_dataset = pd.read_csv(\"/workspace/recipe_nlg_1000_new.csv\",sep=';')\n",
        "replacement=[]\n",
        "for row in range(len(df_recipe_dataset[\"Full Recipe\"])):\n",
        "  string = df_recipe_dataset[\"Full Recipe\"][row].replace(\"<|startofrecipe|>\",\"\")\n",
        "  string = string.replace(\"\\n\",\" \")\n",
        "  replacement.append(string.replace(\"<|endofrecipe|>\",\"\"))\n",
        "df_recipe_dataset[\"Full Recipe\"] = replacement\n",
        "display(df_recipe_dataset.head())\n"
      ]
    },
    {
      "cell_type": "code",
      "execution_count": 5,
      "metadata": {
        "colab": {
          "base_uri": "https://localhost:8080/"
        },
        "id": "tzSWwSemFX1T",
        "outputId": "00ea1ad7-cfdf-4c9b-ed32-7e1da796f687"
      },
      "outputs": [
        {
          "data": {
            "text/plain": [
              "[[3, 45],\n",
              " [3, 45, 5],\n",
              " [3, 45, 5, 28],\n",
              " [3, 45, 5, 28, 39],\n",
              " [3, 45, 5, 28, 39, 70],\n",
              " [3, 45, 5, 28, 39, 70, 20],\n",
              " [3, 45, 5, 28, 39, 70, 20, 468],\n",
              " [3, 45, 5, 28, 39, 70, 20, 468, 328],\n",
              " [3, 45, 5, 28, 39, 70, 20, 468, 328, 402],\n",
              " [3, 45, 5, 28, 39, 70, 20, 468, 328, 402, 124]]"
            ]
          },
          "execution_count": 5,
          "metadata": {},
          "output_type": "execute_result"
        }
      ],
      "source": [
        "tokenizer = Tokenizer()\n",
        "\n",
        "def get_sequence_of_tokens(corpus):\n",
        "    ## tokenization\n",
        "    tokenizer.fit_on_texts(corpus)\n",
        "    total_words = len(tokenizer.word_index) + 1\n",
        "    with open('/workspace/tokenizer.pickle', 'wb') as handle:\n",
        "        pickle.dump(tokenizer, handle, protocol=pickle.HIGHEST_PROTOCOL)\n",
        "    ## convert data to sequence of tokens\n",
        "    input_sequences = []\n",
        "    for line in corpus:\n",
        "        token_list = tokenizer.texts_to_sequences([line])[0]\n",
        "        for i in range(1, len(token_list)):\n",
        "            n_gram_sequence = token_list[:i+1]\n",
        "            input_sequences.append(n_gram_sequence)\n",
        "    return input_sequences, total_words\n",
        "corpus=df_recipe_dataset[\"Full Recipe\"]\n",
        "inp_sequences, total_words = get_sequence_of_tokens(df_recipe_dataset[\"Full Recipe\"])\n",
        "inp_sequences[:10]"
      ]
    },
    {
      "cell_type": "code",
      "execution_count": null,
      "metadata": {
        "id": "8NsSMRXyHNjj"
      },
      "outputs": [],
      "source": [
        "def generate_padded_sequences(input_sequences):\n",
        "    max_sequence_len = max([len(x) for x in input_sequences])\n",
        "    input_sequences = np.array(pad_sequences(input_sequences, maxlen=max_sequence_len, padding='pre'))\n",
        "\n",
        "    predictors, label = input_sequences[:,:-1],input_sequences[:,-1]\n",
        "    label = ku.to_categorical(label, num_classes=total_words)\n",
        "    return predictors, label, max_sequence_len\n",
        "\n",
        "predictors, label, max_sequence_len = generate_padded_sequences(inp_sequences)"
      ]
    },
    {
      "cell_type": "code",
      "execution_count": null,
      "metadata": {},
      "outputs": [],
      "source": [
        "def create_model(max_sequence_len, total_words):\n",
        "    input_len = max_sequence_len - 1\n",
        "    model = Sequential()\n",
        "\n",
        "    # Add Input Embedding Layer\n",
        "    model.add(Embedding(total_words, 16, input_length=input_len))\n",
        "    model.add(BatchNormalization())\n",
        "    model.add(Dropout(0.1))\n",
        "    # Add Hidden Layer 1 - LSTM Layer\n",
        "    model.add(LSTM(512, recurrent_dropout=0.5, return_sequences=True))\n",
        "    model.add(BatchNormalization())\n",
        "    model.add(LSTM(256, recurrent_dropout=0.25,return_sequences=True))\n",
        "    model.add(BatchNormalization())\n",
        "    model.add(LSTM(128))\n",
        "    model.add(BatchNormalization())\n",
        "    model.add(Dropout(0.1))\n",
        "    # Add Output Layer\n",
        "    model.add(Dense(total_words, activation='softmax'))\n",
        "    \n",
        "    \n",
        "    initial_learning_rate = 0.001 \n",
        "    lr_schedule = ExponentialDecay( \n",
        "    initial_learning_rate, \n",
        "    decay_steps=800, \n",
        "    decay_rate=0.5, \n",
        "    staircase=True) #decreciendo en función de escalera \n",
        "    model.compile(loss='categorical_crossentropy', optimizer=tf.keras.optimizers.Adam(learning_rate=lr_schedule), metrics=['acc'])\n",
        "\n",
        "    return model\n",
        "\n",
        "model = create_model(max_sequence_len, total_words)\n",
        "model.summary()"
      ]
    },
    {
      "cell_type": "code",
      "execution_count": null,
      "metadata": {},
      "outputs": [],
      "source": [
        "X_train, X_val, y_train, y_val = train_test_split(predictors, label, test_size = 0.2, random_state=42)"
      ]
    },
    {
      "cell_type": "code",
      "execution_count": null,
      "metadata": {
        "colab": {
          "base_uri": "https://localhost:8080/",
          "height": 520
        },
        "id": "87V3pMsjITGC",
        "outputId": "d931464c-6d9d-4db1-ab95-18621f33cba1"
      },
      "outputs": [],
      "source": [
        "from tensorflow.keras.callbacks import EarlyStopping\n",
        "callbacks = [EarlyStopping(monitor='val_loss', mode='min', verbose=1, patience=3, start_from_epoch=10)]\n",
        "batch_size=64\n",
        "STEP_SIZE_TRAIN=0.8*X_train.shape[0]//batch_size\n",
        "STEP_SIZE_VALID=0.2*X_val.shape[0]//batch_size\n",
        "history = model.fit(X_train, \n",
        "                    y_train,\n",
        "                    steps_per_epoch=STEP_SIZE_TRAIN,  \n",
        "                    validation_data=(X_val,y_val), \n",
        "                    validation_steps=STEP_SIZE_VALID,\n",
        "                    epochs=20, \n",
        "                    batch_size=batch_size, \n",
        "                    verbose=1, \n",
        "                    callbacks=callbacks)"
      ]
    },
    {
      "cell_type": "code",
      "execution_count": null,
      "metadata": {},
      "outputs": [],
      "source": [
        "model.save(\"/workspace/scratch_3.h5\")\n",
        "model.save_weights(\"/workspace/scratch_3\")"
      ]
    },
    {
      "cell_type": "code",
      "execution_count": null,
      "metadata": {},
      "outputs": [],
      "source": [
        "def plot_training_curves(H):\n",
        "    # Muestro gráfica de accuracy y losses\n",
        "    fig = plt.figure(figsize=(10,5))\n",
        "    plt.style.use(\"ggplot\")\n",
        "    plt.subplot(1,2,1)\n",
        "    plt.plot(np.arange(0, len(H.history['loss'])), H.history[\"loss\"], label=\"train_loss\")\n",
        "    plt.plot(np.arange(0, len(H.history['loss'])), H.history[\"val_loss\"], label=\"val_loss\")\n",
        "    plt.title('Training loss')\n",
        "    plt.xlabel(\"Epoch #\")\n",
        "    plt.ylabel(\"Loss\")\n",
        "    plt.legend()\n",
        "\n",
        "    plt.subplot(1,2,2)\n",
        "    plt.plot(np.arange(0, len(H.history['loss'])), H.history[\"acc\"], label=\"train_acc\")\n",
        "    plt.plot(np.arange(0, len(H.history['loss'])), H.history[\"val_acc\"], label=\"val_acc\")\n",
        "    plt.title('Training Accuracy')\n",
        "    plt.xlabel(\"Epoch #\")\n",
        "    plt.ylabel(\"Accuracy\")\n",
        "    plt.legend()\n",
        "    plt.savefig(\"/workspace/performance_scratch_3.png\")"
      ]
    },
    {
      "cell_type": "code",
      "execution_count": null,
      "metadata": {},
      "outputs": [],
      "source": [
        "plot_training_curves(history)"
      ]
    },
    {
      "cell_type": "code",
      "execution_count": null,
      "metadata": {},
      "outputs": [],
      "source": [
        "def generate_text(seed_text, next_words, model, max_sequence_len):\n",
        "    for _ in range(next_words):\n",
        "        token_list = tokenizer.texts_to_sequences([seed_text])[0]\n",
        "        token_list = pad_sequences([token_list], maxlen=max_sequence_len-1, padding='pre')\n",
        "        predicted_x = model.predict(token_list, verbose=0)\n",
        "        predicted=np.argmax(predicted_x,axis=1)\n",
        "        output_word = \"\"\n",
        "        for word,index in tokenizer.word_index.items():\n",
        "            if index == predicted:\n",
        "                output_word = word\n",
        "                break\n",
        "        seed_text += \" \"+output_word\n",
        "    return seed_text.title()"
      ]
    },
    {
      "cell_type": "code",
      "execution_count": null,
      "metadata": {},
      "outputs": [],
      "source": [
        "print (generate_text(\"ingredients: butter milk sugar\", 100, model, max_sequence_len))"
      ]
    }
  ],
  "metadata": {
    "accelerator": "GPU",
    "colab": {
      "gpuType": "T4",
      "provenance": []
    },
    "kernelspec": {
      "display_name": "Python 3",
      "name": "python3"
    },
    "language_info": {
      "codemirror_mode": {
        "name": "ipython",
        "version": 3
      },
      "file_extension": ".py",
      "mimetype": "text/x-python",
      "name": "python",
      "nbconvert_exporter": "python",
      "pygments_lexer": "ipython3",
      "version": "3.8.10"
    },
    "orig_nbformat": 4
  },
  "nbformat": 4,
  "nbformat_minor": 0
}
